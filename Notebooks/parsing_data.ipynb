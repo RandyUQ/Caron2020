{
 "cells": [
  {
   "cell_type": "code",
   "execution_count": 1,
   "metadata": {},
   "outputs": [
    {
     "name": "stderr",
     "output_type": "stream",
     "text": [
      "/Users/randyramdial/anaconda3/envs/MEDI7281/lib/python3.11/site-packages/umap/distances.py:1063: NumbaDeprecationWarning: The 'nopython' keyword argument was not supplied to the 'numba.jit' decorator. The implicit default value for this argument is currently False, but it will be changed to True in Numba 0.59.0. See https://numba.readthedocs.io/en/stable/reference/deprecation.html#deprecation-of-object-mode-fall-back-behaviour-when-using-jit for details.\n",
      "  @numba.jit()\n",
      "/Users/randyramdial/anaconda3/envs/MEDI7281/lib/python3.11/site-packages/umap/distances.py:1071: NumbaDeprecationWarning: The 'nopython' keyword argument was not supplied to the 'numba.jit' decorator. The implicit default value for this argument is currently False, but it will be changed to True in Numba 0.59.0. See https://numba.readthedocs.io/en/stable/reference/deprecation.html#deprecation-of-object-mode-fall-back-behaviour-when-using-jit for details.\n",
      "  @numba.jit()\n",
      "/Users/randyramdial/anaconda3/envs/MEDI7281/lib/python3.11/site-packages/umap/distances.py:1086: NumbaDeprecationWarning: The 'nopython' keyword argument was not supplied to the 'numba.jit' decorator. The implicit default value for this argument is currently False, but it will be changed to True in Numba 0.59.0. See https://numba.readthedocs.io/en/stable/reference/deprecation.html#deprecation-of-object-mode-fall-back-behaviour-when-using-jit for details.\n",
      "  @numba.jit()\n",
      "/Users/randyramdial/anaconda3/envs/MEDI7281/lib/python3.11/site-packages/tqdm/auto.py:21: TqdmWarning: IProgress not found. Please update jupyter and ipywidgets. See https://ipywidgets.readthedocs.io/en/stable/user_install.html\n",
      "  from .autonotebook import tqdm as notebook_tqdm\n"
     ]
    },
    {
     "name": "stdout",
     "output_type": "stream",
     "text": [
      "scanpy==1.9.3 anndata==0.9.1 umap==0.5.3 numpy==1.24.4 scipy==1.11.1 pandas==2.0.3 scikit-learn==1.3.0 statsmodels==0.14.0 pynndescent==0.5.10\n"
     ]
    },
    {
     "name": "stderr",
     "output_type": "stream",
     "text": [
      "/Users/randyramdial/anaconda3/envs/MEDI7281/lib/python3.11/site-packages/umap/umap_.py:660: NumbaDeprecationWarning: The 'nopython' keyword argument was not supplied to the 'numba.jit' decorator. The implicit default value for this argument is currently False, but it will be changed to True in Numba 0.59.0. See https://numba.readthedocs.io/en/stable/reference/deprecation.html#deprecation-of-object-mode-fall-back-behaviour-when-using-jit for details.\n",
      "  @numba.jit()\n"
     ]
    }
   ],
   "source": [
    "import scanpy as sc\n",
    "sc.logging.print_header()"
   ]
  },
  {
   "cell_type": "code",
   "execution_count": 1,
   "metadata": {},
   "outputs": [],
   "source": [
    "import os\n",
    "os.chdir('/Users/randyramdial/Desktop/FoMR/GSE116256_RAW/')"
   ]
  },
  {
   "cell_type": "code",
   "execution_count": 10,
   "metadata": {},
   "outputs": [
    {
     "data": {
      "text/plain": [
       "['GSM3588005_OCI-AML3.dem.txt.gz',\n",
       " 'GSM3587972_AML707B-D113.anno.txt.gz',\n",
       " 'GSM3587943_AML329-D20.anno.txt.gz',\n",
       " 'GSM3587961_AML475-D29.dem.txt.gz',\n",
       " 'GSM3587973_AML707B-D18.dem.txt.gz',\n",
       " 'GSM3587983_AML722B-D49.anno.txt.gz',\n",
       " 'GSM3587926_AML210A-D0.anno.txt.gz',\n",
       " 'GSM3587990_AML921A-D0.dem.txt.gz',\n",
       " 'GSM3587940_AML329-D0.dem.txt.gz',\n",
       " 'GSM3587928_AML314-D0.anno.txt.gz',\n",
       " 'GSM3587963_AML556-D0.dem.txt.gz',\n",
       " 'GSM3587929_AML314-D31.dem.txt.gz',\n",
       " '.DS_Store',\n",
       " 'GSM3587946_AML371-D0.dem.txt.gz',\n",
       " 'GSM3587978_AML707B-D97.anno.txt.gz',\n",
       " 'GSM3587967_AML556-D31.dem.txt.gz',\n",
       " 'GSM3587925_AML210A-D0.dem.txt.gz',\n",
       " 'GSM3587994_AML997-D35.dem.txt.gz',\n",
       " 'GSM3587962_AML475-D29.anno.txt.gz',\n",
       " 'GSM3587941_AML329-D0.anno.txt.gz',\n",
       " 'GSM3587956_AML420B-D14.anno.txt.gz',\n",
       " 'GSM3587986_AML870-D14.dem.txt.gz',\n",
       " 'GSM3587991_AML921A-D0.anno.txt.gz',\n",
       " 'GSM3587964_AML556-D0.anno.txt.gz',\n",
       " 'GSM3587942_AML329-D20.dem.txt.gz',\n",
       " 'GSM3588004_MUTZ3.dem.txt.gz',\n",
       " 'GSM3588003_BM5-34p38n.dem.txt.gz',\n",
       " 'GSM3588003_BM5-34p38n.anno.txt.gz',\n",
       " 'GSM3587995_AML997-D35.anno.txt.gz',\n",
       " 'GSM3587931_AML328-D0.dem.txt.gz',\n",
       " 'GSM3587997_BM2.dem.txt.gz',\n",
       " 'GSM3587937_AML328-D29.dem.txt.gz',\n",
       " 'GSM3587965_AML556-D15.dem.txt.gz',\n",
       " 'GSM3587923_AML1012-D0.dem.txt.gz',\n",
       " 'GSM3587938_AML328-D29.anno.txt.gz',\n",
       " 'GSM3588002_BM5-34p.dem.txt.gz',\n",
       " 'GSM3587997_BM2.anno.txt.gz',\n",
       " 'GSM3587950_AML419A-D0.dem.txt.gz',\n",
       " 'GSM3587980_AML722B-D0.dem.txt.gz',\n",
       " 'GSM3587951_AML419A-D0.anno.txt.gz',\n",
       " 'GSM3587996_BM1.anno.txt.gz',\n",
       " 'GSM3587969_AML707B-D0.dem.txt.gz',\n",
       " 'GSM3587953_AML420B-D0.dem.txt.gz',\n",
       " 'GSM3587996_BM1.dem.txt.gz',\n",
       " 'GSM3587944_AML329-D37.dem.txt.gz',\n",
       " 'GSM3587971_AML707B-D113.dem.txt.gz',\n",
       " 'GSM3587982_AML722B-D49.dem.txt.gz',\n",
       " 'GSM3587952_AML419A.nanopore.txt.gz',\n",
       " 'GSM3588004_MUTZ3.anno.txt.gz',\n",
       " 'GSM3587974_AML707B-D18.anno.txt.gz',\n",
       " 'GSM3587959_AML475-D0.dem.txt.gz',\n",
       " 'GSM3587987_AML870-D14.anno.txt.gz',\n",
       " 'GSM3587960_AML475-D0.anno.txt.gz',\n",
       " 'GSM3587989_AML916-D0.anno.txt.gz',\n",
       " 'GSM3587984_AML870-D0.dem.txt.gz',\n",
       " 'GSM3587999_BM3.anno.txt.gz',\n",
       " 'GSM3587932_AML328-D0.anno.txt.gz',\n",
       " 'GSM3587968_AML556-D31.anno.txt.gz',\n",
       " 'GSM3587976_AML707B-D41.anno.txt.gz',\n",
       " 'GSM3588002_BM5-34p.anno.txt.gz',\n",
       " 'GSM3587939_AML328.nanopore.txt.gz',\n",
       " 'GSM3587947_AML371-D0.anno.txt.gz',\n",
       " 'GSM3588005_OCI-AML3.anno.txt.gz',\n",
       " 'GSM3587945_AML329-D37.anno.txt.gz',\n",
       " 'GSM3587992_AML997-D0.dem.txt.gz',\n",
       " 'GSM3587935_AML328-D171.dem.txt.gz',\n",
       " 'GSM3587979_AML707B.nanopore.txt.gz',\n",
       " 'GSM3587981_AML722B-D0.anno.txt.gz',\n",
       " 'GSM3587927_AML314-D0.dem.txt.gz',\n",
       " 'GSM3587934_AML328-D113.anno.txt.gz',\n",
       " 'GSM3587977_AML707B-D97.dem.txt.gz',\n",
       " 'GSM3588000_BM4.dem.txt.gz',\n",
       " 'GSM3587933_AML328-D113.dem.txt.gz',\n",
       " 'GSM3587955_AML420B-D14.dem.txt.gz',\n",
       " 'GSM3587948_AML371-D34.dem.txt.gz',\n",
       " 'GSM3587958_AML420B-D35.anno.txt.gz',\n",
       " 'GSM3587975_AML707B-D41.dem.txt.gz',\n",
       " 'GSM3587970_AML707B-D0.anno.txt.gz',\n",
       " 'GSM3587988_AML916-D0.dem.txt.gz',\n",
       " 'GSM3588001_BM4.anno.txt.gz',\n",
       " 'GSM3587985_AML870-D0.anno.txt.gz',\n",
       " 'GSM3587924_AML1012-D0.anno.txt.gz',\n",
       " 'GSM3587998_BM3.dem.txt.gz',\n",
       " 'GSM3587936_AML328-D171.anno.txt.gz',\n",
       " 'GSM3587966_AML556-D15.anno.txt.gz',\n",
       " 'GSM3587954_AML420B-D0.anno.txt.gz',\n",
       " 'GSM3587949_AML371-D34.anno.txt.gz',\n",
       " 'GSM3587993_AML997-D0.anno.txt.gz',\n",
       " 'GSM3587957_AML420B-D35.dem.txt.gz',\n",
       " 'GSM3587930_AML314-D31.anno.txt.gz']"
      ]
     },
     "execution_count": 10,
     "metadata": {},
     "output_type": "execute_result"
    }
   ],
   "source": [
    "os.listdir()"
   ]
  },
  {
   "cell_type": "code",
   "execution_count": 42,
   "metadata": {},
   "outputs": [],
   "source": [
    "# first grab all the unique file names but without dem.txt.gz or anno.txt.gz\n",
    "sample_id = [file.split('.')[0] for file in os.listdir() if not file.startswith('.')]\n",
    "# let's create another list this time removing the the gsm whatever numbers\n",
    "patient_id_with_day = [file.split('_')[1] for file in sample_id]"
   ]
  },
  {
   "cell_type": "code",
   "execution_count": 43,
   "metadata": {},
   "outputs": [
    {
     "data": {
      "text/plain": [
       "['GSM3588005_OCI-AML3',\n",
       " 'GSM3587972_AML707B-D113',\n",
       " 'GSM3587943_AML329-D20',\n",
       " 'GSM3587961_AML475-D29',\n",
       " 'GSM3587973_AML707B-D18',\n",
       " 'GSM3587983_AML722B-D49',\n",
       " 'GSM3587926_AML210A-D0',\n",
       " 'GSM3587990_AML921A-D0',\n",
       " 'GSM3587940_AML329-D0',\n",
       " 'GSM3587928_AML314-D0',\n",
       " 'GSM3587963_AML556-D0',\n",
       " 'GSM3587929_AML314-D31',\n",
       " 'GSM3587946_AML371-D0',\n",
       " 'GSM3587978_AML707B-D97',\n",
       " 'GSM3587967_AML556-D31',\n",
       " 'GSM3587925_AML210A-D0',\n",
       " 'GSM3587994_AML997-D35',\n",
       " 'GSM3587962_AML475-D29',\n",
       " 'GSM3587941_AML329-D0',\n",
       " 'GSM3587956_AML420B-D14',\n",
       " 'GSM3587986_AML870-D14',\n",
       " 'GSM3587991_AML921A-D0',\n",
       " 'GSM3587964_AML556-D0',\n",
       " 'GSM3587942_AML329-D20',\n",
       " 'GSM3588004_MUTZ3',\n",
       " 'GSM3588003_BM5-34p38n',\n",
       " 'GSM3588003_BM5-34p38n',\n",
       " 'GSM3587995_AML997-D35',\n",
       " 'GSM3587931_AML328-D0',\n",
       " 'GSM3587997_BM2',\n",
       " 'GSM3587937_AML328-D29',\n",
       " 'GSM3587965_AML556-D15',\n",
       " 'GSM3587923_AML1012-D0',\n",
       " 'GSM3587938_AML328-D29',\n",
       " 'GSM3588002_BM5-34p',\n",
       " 'GSM3587997_BM2',\n",
       " 'GSM3587950_AML419A-D0',\n",
       " 'GSM3587980_AML722B-D0',\n",
       " 'GSM3587951_AML419A-D0',\n",
       " 'GSM3587996_BM1',\n",
       " 'GSM3587969_AML707B-D0',\n",
       " 'GSM3587953_AML420B-D0',\n",
       " 'GSM3587996_BM1',\n",
       " 'GSM3587944_AML329-D37',\n",
       " 'GSM3587971_AML707B-D113',\n",
       " 'GSM3587982_AML722B-D49',\n",
       " 'GSM3587952_AML419A',\n",
       " 'GSM3588004_MUTZ3',\n",
       " 'GSM3587974_AML707B-D18',\n",
       " 'GSM3587959_AML475-D0',\n",
       " 'GSM3587987_AML870-D14',\n",
       " 'GSM3587960_AML475-D0',\n",
       " 'GSM3587989_AML916-D0',\n",
       " 'GSM3587984_AML870-D0',\n",
       " 'GSM3587999_BM3',\n",
       " 'GSM3587932_AML328-D0',\n",
       " 'GSM3587968_AML556-D31',\n",
       " 'GSM3587976_AML707B-D41',\n",
       " 'GSM3588002_BM5-34p',\n",
       " 'GSM3587939_AML328',\n",
       " 'GSM3587947_AML371-D0',\n",
       " 'GSM3588005_OCI-AML3',\n",
       " 'GSM3587945_AML329-D37',\n",
       " 'GSM3587992_AML997-D0',\n",
       " 'GSM3587935_AML328-D171',\n",
       " 'GSM3587979_AML707B',\n",
       " 'GSM3587981_AML722B-D0',\n",
       " 'GSM3587927_AML314-D0',\n",
       " 'GSM3587934_AML328-D113',\n",
       " 'GSM3587977_AML707B-D97',\n",
       " 'GSM3588000_BM4',\n",
       " 'GSM3587933_AML328-D113',\n",
       " 'GSM3587955_AML420B-D14',\n",
       " 'GSM3587948_AML371-D34',\n",
       " 'GSM3587958_AML420B-D35',\n",
       " 'GSM3587975_AML707B-D41',\n",
       " 'GSM3587970_AML707B-D0',\n",
       " 'GSM3587988_AML916-D0',\n",
       " 'GSM3588001_BM4',\n",
       " 'GSM3587985_AML870-D0',\n",
       " 'GSM3587924_AML1012-D0',\n",
       " 'GSM3587998_BM3',\n",
       " 'GSM3587936_AML328-D171',\n",
       " 'GSM3587966_AML556-D15',\n",
       " 'GSM3587954_AML420B-D0',\n",
       " 'GSM3587949_AML371-D34',\n",
       " 'GSM3587993_AML997-D0',\n",
       " 'GSM3587957_AML420B-D35',\n",
       " 'GSM3587930_AML314-D31']"
      ]
     },
     "execution_count": 43,
     "metadata": {},
     "output_type": "execute_result"
    }
   ],
   "source": [
    "sample_id"
   ]
  },
  {
   "cell_type": "code",
   "execution_count": 44,
   "metadata": {},
   "outputs": [
    {
     "data": {
      "text/plain": [
       "['OCI-AML3',\n",
       " 'AML707B-D113',\n",
       " 'AML329-D20',\n",
       " 'AML475-D29',\n",
       " 'AML707B-D18',\n",
       " 'AML722B-D49',\n",
       " 'AML210A-D0',\n",
       " 'AML921A-D0',\n",
       " 'AML329-D0',\n",
       " 'AML314-D0',\n",
       " 'AML556-D0',\n",
       " 'AML314-D31',\n",
       " 'AML371-D0',\n",
       " 'AML707B-D97',\n",
       " 'AML556-D31',\n",
       " 'AML210A-D0',\n",
       " 'AML997-D35',\n",
       " 'AML475-D29',\n",
       " 'AML329-D0',\n",
       " 'AML420B-D14',\n",
       " 'AML870-D14',\n",
       " 'AML921A-D0',\n",
       " 'AML556-D0',\n",
       " 'AML329-D20',\n",
       " 'MUTZ3',\n",
       " 'BM5-34p38n',\n",
       " 'BM5-34p38n',\n",
       " 'AML997-D35',\n",
       " 'AML328-D0',\n",
       " 'BM2',\n",
       " 'AML328-D29',\n",
       " 'AML556-D15',\n",
       " 'AML1012-D0',\n",
       " 'AML328-D29',\n",
       " 'BM5-34p',\n",
       " 'BM2',\n",
       " 'AML419A-D0',\n",
       " 'AML722B-D0',\n",
       " 'AML419A-D0',\n",
       " 'BM1',\n",
       " 'AML707B-D0',\n",
       " 'AML420B-D0',\n",
       " 'BM1',\n",
       " 'AML329-D37',\n",
       " 'AML707B-D113',\n",
       " 'AML722B-D49',\n",
       " 'AML419A',\n",
       " 'MUTZ3',\n",
       " 'AML707B-D18',\n",
       " 'AML475-D0',\n",
       " 'AML870-D14',\n",
       " 'AML475-D0',\n",
       " 'AML916-D0',\n",
       " 'AML870-D0',\n",
       " 'BM3',\n",
       " 'AML328-D0',\n",
       " 'AML556-D31',\n",
       " 'AML707B-D41',\n",
       " 'BM5-34p',\n",
       " 'AML328',\n",
       " 'AML371-D0',\n",
       " 'OCI-AML3',\n",
       " 'AML329-D37',\n",
       " 'AML997-D0',\n",
       " 'AML328-D171',\n",
       " 'AML707B',\n",
       " 'AML722B-D0',\n",
       " 'AML314-D0',\n",
       " 'AML328-D113',\n",
       " 'AML707B-D97',\n",
       " 'BM4',\n",
       " 'AML328-D113',\n",
       " 'AML420B-D14',\n",
       " 'AML371-D34',\n",
       " 'AML420B-D35',\n",
       " 'AML707B-D41',\n",
       " 'AML707B-D0',\n",
       " 'AML916-D0',\n",
       " 'BM4',\n",
       " 'AML870-D0',\n",
       " 'AML1012-D0',\n",
       " 'BM3',\n",
       " 'AML328-D171',\n",
       " 'AML556-D15',\n",
       " 'AML420B-D0',\n",
       " 'AML371-D34',\n",
       " 'AML997-D0',\n",
       " 'AML420B-D35',\n",
       " 'AML314-D31']"
      ]
     },
     "execution_count": 44,
     "metadata": {},
     "output_type": "execute_result"
    }
   ],
   "source": [
    "patient_id_with_day"
   ]
  },
  {
   "cell_type": "code",
   "execution_count": 45,
   "metadata": {},
   "outputs": [
    {
     "data": {
      "text/plain": [
       "{'GSM3588005_OCI-AML3': 'OCI-AML3',\n",
       " 'GSM3587972_AML707B-D113': 'AML707B-D113',\n",
       " 'GSM3587943_AML329-D20': 'AML329-D20',\n",
       " 'GSM3587961_AML475-D29': 'AML475-D29',\n",
       " 'GSM3587973_AML707B-D18': 'AML707B-D18',\n",
       " 'GSM3587983_AML722B-D49': 'AML722B-D49',\n",
       " 'GSM3587926_AML210A-D0': 'AML210A-D0',\n",
       " 'GSM3587990_AML921A-D0': 'AML921A-D0',\n",
       " 'GSM3587940_AML329-D0': 'AML329-D0',\n",
       " 'GSM3587928_AML314-D0': 'AML314-D0',\n",
       " 'GSM3587963_AML556-D0': 'AML556-D0',\n",
       " 'GSM3587929_AML314-D31': 'AML314-D31',\n",
       " 'GSM3587946_AML371-D0': 'AML371-D0',\n",
       " 'GSM3587978_AML707B-D97': 'AML707B-D97',\n",
       " 'GSM3587967_AML556-D31': 'AML556-D31',\n",
       " 'GSM3587925_AML210A-D0': 'AML210A-D0',\n",
       " 'GSM3587994_AML997-D35': 'AML997-D35',\n",
       " 'GSM3587962_AML475-D29': 'AML475-D29',\n",
       " 'GSM3587941_AML329-D0': 'AML329-D0',\n",
       " 'GSM3587956_AML420B-D14': 'AML420B-D14',\n",
       " 'GSM3587986_AML870-D14': 'AML870-D14',\n",
       " 'GSM3587991_AML921A-D0': 'AML921A-D0',\n",
       " 'GSM3587964_AML556-D0': 'AML556-D0',\n",
       " 'GSM3587942_AML329-D20': 'AML329-D20',\n",
       " 'GSM3588004_MUTZ3': 'MUTZ3',\n",
       " 'GSM3588003_BM5-34p38n': 'BM5-34p38n',\n",
       " 'GSM3587995_AML997-D35': 'AML997-D35',\n",
       " 'GSM3587931_AML328-D0': 'AML328-D0',\n",
       " 'GSM3587997_BM2': 'BM2',\n",
       " 'GSM3587937_AML328-D29': 'AML328-D29',\n",
       " 'GSM3587965_AML556-D15': 'AML556-D15',\n",
       " 'GSM3587923_AML1012-D0': 'AML1012-D0',\n",
       " 'GSM3587938_AML328-D29': 'AML328-D29',\n",
       " 'GSM3588002_BM5-34p': 'BM5-34p',\n",
       " 'GSM3587950_AML419A-D0': 'AML419A-D0',\n",
       " 'GSM3587980_AML722B-D0': 'AML722B-D0',\n",
       " 'GSM3587951_AML419A-D0': 'AML419A-D0',\n",
       " 'GSM3587996_BM1': 'BM1',\n",
       " 'GSM3587969_AML707B-D0': 'AML707B-D0',\n",
       " 'GSM3587953_AML420B-D0': 'AML420B-D0',\n",
       " 'GSM3587944_AML329-D37': 'AML329-D37',\n",
       " 'GSM3587971_AML707B-D113': 'AML707B-D113',\n",
       " 'GSM3587982_AML722B-D49': 'AML722B-D49',\n",
       " 'GSM3587952_AML419A': 'AML419A',\n",
       " 'GSM3587974_AML707B-D18': 'AML707B-D18',\n",
       " 'GSM3587959_AML475-D0': 'AML475-D0',\n",
       " 'GSM3587987_AML870-D14': 'AML870-D14',\n",
       " 'GSM3587960_AML475-D0': 'AML475-D0',\n",
       " 'GSM3587989_AML916-D0': 'AML916-D0',\n",
       " 'GSM3587984_AML870-D0': 'AML870-D0',\n",
       " 'GSM3587999_BM3': 'BM3',\n",
       " 'GSM3587932_AML328-D0': 'AML328-D0',\n",
       " 'GSM3587968_AML556-D31': 'AML556-D31',\n",
       " 'GSM3587976_AML707B-D41': 'AML707B-D41',\n",
       " 'GSM3587939_AML328': 'AML328',\n",
       " 'GSM3587947_AML371-D0': 'AML371-D0',\n",
       " 'GSM3587945_AML329-D37': 'AML329-D37',\n",
       " 'GSM3587992_AML997-D0': 'AML997-D0',\n",
       " 'GSM3587935_AML328-D171': 'AML328-D171',\n",
       " 'GSM3587979_AML707B': 'AML707B',\n",
       " 'GSM3587981_AML722B-D0': 'AML722B-D0',\n",
       " 'GSM3587927_AML314-D0': 'AML314-D0',\n",
       " 'GSM3587934_AML328-D113': 'AML328-D113',\n",
       " 'GSM3587977_AML707B-D97': 'AML707B-D97',\n",
       " 'GSM3588000_BM4': 'BM4',\n",
       " 'GSM3587933_AML328-D113': 'AML328-D113',\n",
       " 'GSM3587955_AML420B-D14': 'AML420B-D14',\n",
       " 'GSM3587948_AML371-D34': 'AML371-D34',\n",
       " 'GSM3587958_AML420B-D35': 'AML420B-D35',\n",
       " 'GSM3587975_AML707B-D41': 'AML707B-D41',\n",
       " 'GSM3587970_AML707B-D0': 'AML707B-D0',\n",
       " 'GSM3587988_AML916-D0': 'AML916-D0',\n",
       " 'GSM3588001_BM4': 'BM4',\n",
       " 'GSM3587985_AML870-D0': 'AML870-D0',\n",
       " 'GSM3587924_AML1012-D0': 'AML1012-D0',\n",
       " 'GSM3587998_BM3': 'BM3',\n",
       " 'GSM3587936_AML328-D171': 'AML328-D171',\n",
       " 'GSM3587966_AML556-D15': 'AML556-D15',\n",
       " 'GSM3587954_AML420B-D0': 'AML420B-D0',\n",
       " 'GSM3587949_AML371-D34': 'AML371-D34',\n",
       " 'GSM3587993_AML997-D0': 'AML997-D0',\n",
       " 'GSM3587957_AML420B-D35': 'AML420B-D35',\n",
       " 'GSM3587930_AML314-D31': 'AML314-D31'}"
      ]
     },
     "execution_count": 45,
     "metadata": {},
     "output_type": "execute_result"
    }
   ],
   "source": [
    "# make a dictionary\n",
    "sample_dict = {s:p for s, p in zip(sample_id, patient_id_with_day)}\n",
    "sample_dict\n",
    "# look up what OCI can mean\n",
    "\n",
    "# challenge:\n",
    "# 1) make a dictionary for day information i.e D113, D20\n",
    "# 2) make a dictionary for patient information i.e AML3, AML707B\n"
   ]
  },
  {
   "cell_type": "code",
   "execution_count": 48,
   "metadata": {},
   "outputs": [
    {
     "data": {
      "text/plain": [
       "'AML420B-D0'"
      ]
     },
     "execution_count": 48,
     "metadata": {},
     "output_type": "execute_result"
    }
   ],
   "source": [
    "sample_dict['GSM3587954_AML420B-D0']"
   ]
  },
  {
   "cell_type": "code",
   "execution_count": 23,
   "metadata": {},
   "outputs": [
    {
     "name": "stdout",
     "output_type": "stream",
     "text": [
      "1st is: GSM3588005_OCI-AML3 \n",
      "3rd is: txt\n"
     ]
    }
   ],
   "source": [
    "# # x = [file.split('.')[0] for file in os.listdir() if not file.startswith('.')]\n",
    "# for file in os.listdir():\n",
    "#     if not file.startswith('.'):\n",
    "#         filenames_split = file.split('.')\n",
    "#         break\n",
    "#     break\n",
    "# print(\"1st is:\", filenames_split[0], \"\\n3rd is:\", filenames_split[2])\n"
   ]
  },
  {
   "cell_type": "code",
   "execution_count": 32,
   "metadata": {},
   "outputs": [
    {
     "data": {
      "text/plain": [
       "'GSM3588005_OCI-AML3'"
      ]
     },
     "execution_count": 32,
     "metadata": {},
     "output_type": "execute_result"
    }
   ],
   "source": [
    "# let's now read in sample's file\n",
    "# every sample has a .dem.txt.gz and a .anno.txt.gz\n",
    "\n",
    "sample1 = sample_id[0]\n",
    "sample1"
   ]
  },
  {
   "cell_type": "code",
   "execution_count": 35,
   "metadata": {},
   "outputs": [
    {
     "data": {
      "text/plain": [
       "('GSM3588005_OCI-AML3.dem.txt.gz', 'GSM3588005_OCI-AML3.anno.txt.gz')"
      ]
     },
     "execution_count": 35,
     "metadata": {},
     "output_type": "execute_result"
    }
   ],
   "source": [
    "sample1 + '.dem.txt.gz', sample1 + '.anno.txt.gz'"
   ]
  },
  {
   "cell_type": "code",
   "execution_count": 36,
   "metadata": {},
   "outputs": [
    {
     "data": {
      "text/html": [
       "<div>\n",
       "<style scoped>\n",
       "    .dataframe tbody tr th:only-of-type {\n",
       "        vertical-align: middle;\n",
       "    }\n",
       "\n",
       "    .dataframe tbody tr th {\n",
       "        vertical-align: top;\n",
       "    }\n",
       "\n",
       "    .dataframe thead th {\n",
       "        text-align: right;\n",
       "    }\n",
       "</style>\n",
       "<table border=\"1\" class=\"dataframe\">\n",
       "  <thead>\n",
       "    <tr style=\"text-align: right;\">\n",
       "      <th></th>\n",
       "      <th>OCI-AML3_AAAAAGTATGGG</th>\n",
       "      <th>OCI-AML3_AAAAGACGACGG</th>\n",
       "      <th>OCI-AML3_AAAATCTTTCCT</th>\n",
       "      <th>OCI-AML3_AAAATGCATTTN</th>\n",
       "      <th>OCI-AML3_AAAATTTTCCGC</th>\n",
       "      <th>OCI-AML3_AAACCCAATTGC</th>\n",
       "      <th>OCI-AML3_AAACCGGAAACC</th>\n",
       "      <th>OCI-AML3_AAACGCTCCATN</th>\n",
       "      <th>OCI-AML3_AAAGCGCGCCCN</th>\n",
       "      <th>OCI-AML3_AAAGCTTACTCG</th>\n",
       "      <th>...</th>\n",
       "      <th>OCI-AML3_TTTCCTAGAGAT</th>\n",
       "      <th>OCI-AML3_TTTCGACGAGGA</th>\n",
       "      <th>OCI-AML3_TTTCGCACGACA</th>\n",
       "      <th>OCI-AML3_TTTCGCTCCACA</th>\n",
       "      <th>OCI-AML3_TTTCTTCCCCTG</th>\n",
       "      <th>OCI-AML3_TTTGAGCCAACC</th>\n",
       "      <th>OCI-AML3_TTTGCCACAGGC</th>\n",
       "      <th>OCI-AML3_TTTTATGAATTN</th>\n",
       "      <th>OCI-AML3_TTTTGACTTTTN</th>\n",
       "      <th>OCI-AML3_TTTTGTGACCGT</th>\n",
       "    </tr>\n",
       "    <tr>\n",
       "      <th>Gene</th>\n",
       "      <th></th>\n",
       "      <th></th>\n",
       "      <th></th>\n",
       "      <th></th>\n",
       "      <th></th>\n",
       "      <th></th>\n",
       "      <th></th>\n",
       "      <th></th>\n",
       "      <th></th>\n",
       "      <th></th>\n",
       "      <th></th>\n",
       "      <th></th>\n",
       "      <th></th>\n",
       "      <th></th>\n",
       "      <th></th>\n",
       "      <th></th>\n",
       "      <th></th>\n",
       "      <th></th>\n",
       "      <th></th>\n",
       "      <th></th>\n",
       "      <th></th>\n",
       "    </tr>\n",
       "  </thead>\n",
       "  <tbody>\n",
       "    <tr>\n",
       "      <th>A1BG</th>\n",
       "      <td>0</td>\n",
       "      <td>0</td>\n",
       "      <td>0</td>\n",
       "      <td>0</td>\n",
       "      <td>0</td>\n",
       "      <td>0</td>\n",
       "      <td>0</td>\n",
       "      <td>0</td>\n",
       "      <td>0</td>\n",
       "      <td>0</td>\n",
       "      <td>...</td>\n",
       "      <td>1</td>\n",
       "      <td>0</td>\n",
       "      <td>1</td>\n",
       "      <td>0</td>\n",
       "      <td>0</td>\n",
       "      <td>1</td>\n",
       "      <td>0</td>\n",
       "      <td>0</td>\n",
       "      <td>0</td>\n",
       "      <td>0</td>\n",
       "    </tr>\n",
       "    <tr>\n",
       "      <th>A1BG-AS1</th>\n",
       "      <td>0</td>\n",
       "      <td>0</td>\n",
       "      <td>0</td>\n",
       "      <td>0</td>\n",
       "      <td>0</td>\n",
       "      <td>0</td>\n",
       "      <td>0</td>\n",
       "      <td>0</td>\n",
       "      <td>0</td>\n",
       "      <td>0</td>\n",
       "      <td>...</td>\n",
       "      <td>0</td>\n",
       "      <td>0</td>\n",
       "      <td>0</td>\n",
       "      <td>0</td>\n",
       "      <td>0</td>\n",
       "      <td>0</td>\n",
       "      <td>0</td>\n",
       "      <td>0</td>\n",
       "      <td>0</td>\n",
       "      <td>0</td>\n",
       "    </tr>\n",
       "    <tr>\n",
       "      <th>A1CF</th>\n",
       "      <td>0</td>\n",
       "      <td>0</td>\n",
       "      <td>0</td>\n",
       "      <td>0</td>\n",
       "      <td>0</td>\n",
       "      <td>0</td>\n",
       "      <td>0</td>\n",
       "      <td>0</td>\n",
       "      <td>0</td>\n",
       "      <td>0</td>\n",
       "      <td>...</td>\n",
       "      <td>0</td>\n",
       "      <td>0</td>\n",
       "      <td>0</td>\n",
       "      <td>0</td>\n",
       "      <td>0</td>\n",
       "      <td>0</td>\n",
       "      <td>0</td>\n",
       "      <td>0</td>\n",
       "      <td>0</td>\n",
       "      <td>0</td>\n",
       "    </tr>\n",
       "    <tr>\n",
       "      <th>A2M</th>\n",
       "      <td>0</td>\n",
       "      <td>0</td>\n",
       "      <td>0</td>\n",
       "      <td>0</td>\n",
       "      <td>0</td>\n",
       "      <td>0</td>\n",
       "      <td>0</td>\n",
       "      <td>0</td>\n",
       "      <td>0</td>\n",
       "      <td>0</td>\n",
       "      <td>...</td>\n",
       "      <td>0</td>\n",
       "      <td>0</td>\n",
       "      <td>0</td>\n",
       "      <td>0</td>\n",
       "      <td>0</td>\n",
       "      <td>0</td>\n",
       "      <td>0</td>\n",
       "      <td>0</td>\n",
       "      <td>0</td>\n",
       "      <td>0</td>\n",
       "    </tr>\n",
       "    <tr>\n",
       "      <th>A2M-AS1</th>\n",
       "      <td>0</td>\n",
       "      <td>0</td>\n",
       "      <td>0</td>\n",
       "      <td>0</td>\n",
       "      <td>0</td>\n",
       "      <td>0</td>\n",
       "      <td>0</td>\n",
       "      <td>0</td>\n",
       "      <td>0</td>\n",
       "      <td>0</td>\n",
       "      <td>...</td>\n",
       "      <td>0</td>\n",
       "      <td>0</td>\n",
       "      <td>0</td>\n",
       "      <td>0</td>\n",
       "      <td>0</td>\n",
       "      <td>0</td>\n",
       "      <td>0</td>\n",
       "      <td>0</td>\n",
       "      <td>0</td>\n",
       "      <td>0</td>\n",
       "    </tr>\n",
       "    <tr>\n",
       "      <th>...</th>\n",
       "      <td>...</td>\n",
       "      <td>...</td>\n",
       "      <td>...</td>\n",
       "      <td>...</td>\n",
       "      <td>...</td>\n",
       "      <td>...</td>\n",
       "      <td>...</td>\n",
       "      <td>...</td>\n",
       "      <td>...</td>\n",
       "      <td>...</td>\n",
       "      <td>...</td>\n",
       "      <td>...</td>\n",
       "      <td>...</td>\n",
       "      <td>...</td>\n",
       "      <td>...</td>\n",
       "      <td>...</td>\n",
       "      <td>...</td>\n",
       "      <td>...</td>\n",
       "      <td>...</td>\n",
       "      <td>...</td>\n",
       "      <td>...</td>\n",
       "    </tr>\n",
       "    <tr>\n",
       "      <th>ZYG11A</th>\n",
       "      <td>0</td>\n",
       "      <td>0</td>\n",
       "      <td>0</td>\n",
       "      <td>0</td>\n",
       "      <td>0</td>\n",
       "      <td>0</td>\n",
       "      <td>0</td>\n",
       "      <td>0</td>\n",
       "      <td>0</td>\n",
       "      <td>0</td>\n",
       "      <td>...</td>\n",
       "      <td>0</td>\n",
       "      <td>0</td>\n",
       "      <td>0</td>\n",
       "      <td>0</td>\n",
       "      <td>0</td>\n",
       "      <td>0</td>\n",
       "      <td>0</td>\n",
       "      <td>0</td>\n",
       "      <td>0</td>\n",
       "      <td>0</td>\n",
       "    </tr>\n",
       "    <tr>\n",
       "      <th>ZYG11B</th>\n",
       "      <td>0</td>\n",
       "      <td>0</td>\n",
       "      <td>0</td>\n",
       "      <td>0</td>\n",
       "      <td>0</td>\n",
       "      <td>0</td>\n",
       "      <td>0</td>\n",
       "      <td>0</td>\n",
       "      <td>0</td>\n",
       "      <td>0</td>\n",
       "      <td>...</td>\n",
       "      <td>0</td>\n",
       "      <td>0</td>\n",
       "      <td>1</td>\n",
       "      <td>0</td>\n",
       "      <td>0</td>\n",
       "      <td>0</td>\n",
       "      <td>0</td>\n",
       "      <td>0</td>\n",
       "      <td>2</td>\n",
       "      <td>0</td>\n",
       "    </tr>\n",
       "    <tr>\n",
       "      <th>ZYX</th>\n",
       "      <td>0</td>\n",
       "      <td>0</td>\n",
       "      <td>0</td>\n",
       "      <td>0</td>\n",
       "      <td>0</td>\n",
       "      <td>2</td>\n",
       "      <td>0</td>\n",
       "      <td>0</td>\n",
       "      <td>0</td>\n",
       "      <td>0</td>\n",
       "      <td>...</td>\n",
       "      <td>0</td>\n",
       "      <td>0</td>\n",
       "      <td>0</td>\n",
       "      <td>0</td>\n",
       "      <td>0</td>\n",
       "      <td>0</td>\n",
       "      <td>0</td>\n",
       "      <td>0</td>\n",
       "      <td>0</td>\n",
       "      <td>0</td>\n",
       "    </tr>\n",
       "    <tr>\n",
       "      <th>ZZEF1</th>\n",
       "      <td>0</td>\n",
       "      <td>0</td>\n",
       "      <td>0</td>\n",
       "      <td>0</td>\n",
       "      <td>0</td>\n",
       "      <td>0</td>\n",
       "      <td>1</td>\n",
       "      <td>0</td>\n",
       "      <td>0</td>\n",
       "      <td>0</td>\n",
       "      <td>...</td>\n",
       "      <td>0</td>\n",
       "      <td>0</td>\n",
       "      <td>0</td>\n",
       "      <td>0</td>\n",
       "      <td>0</td>\n",
       "      <td>1</td>\n",
       "      <td>0</td>\n",
       "      <td>0</td>\n",
       "      <td>0</td>\n",
       "      <td>0</td>\n",
       "    </tr>\n",
       "    <tr>\n",
       "      <th>ZZZ3</th>\n",
       "      <td>1</td>\n",
       "      <td>0</td>\n",
       "      <td>1</td>\n",
       "      <td>0</td>\n",
       "      <td>1</td>\n",
       "      <td>0</td>\n",
       "      <td>0</td>\n",
       "      <td>2</td>\n",
       "      <td>0</td>\n",
       "      <td>0</td>\n",
       "      <td>...</td>\n",
       "      <td>0</td>\n",
       "      <td>0</td>\n",
       "      <td>1</td>\n",
       "      <td>1</td>\n",
       "      <td>0</td>\n",
       "      <td>1</td>\n",
       "      <td>0</td>\n",
       "      <td>0</td>\n",
       "      <td>2</td>\n",
       "      <td>0</td>\n",
       "    </tr>\n",
       "  </tbody>\n",
       "</table>\n",
       "<p>27899 rows × 1178 columns</p>\n",
       "</div>"
      ],
      "text/plain": [
       "          OCI-AML3_AAAAAGTATGGG  OCI-AML3_AAAAGACGACGG  OCI-AML3_AAAATCTTTCCT  \\\n",
       "Gene                                                                            \n",
       "A1BG                          0                      0                      0   \n",
       "A1BG-AS1                      0                      0                      0   \n",
       "A1CF                          0                      0                      0   \n",
       "A2M                           0                      0                      0   \n",
       "A2M-AS1                       0                      0                      0   \n",
       "...                         ...                    ...                    ...   \n",
       "ZYG11A                        0                      0                      0   \n",
       "ZYG11B                        0                      0                      0   \n",
       "ZYX                           0                      0                      0   \n",
       "ZZEF1                         0                      0                      0   \n",
       "ZZZ3                          1                      0                      1   \n",
       "\n",
       "          OCI-AML3_AAAATGCATTTN  OCI-AML3_AAAATTTTCCGC  OCI-AML3_AAACCCAATTGC  \\\n",
       "Gene                                                                            \n",
       "A1BG                          0                      0                      0   \n",
       "A1BG-AS1                      0                      0                      0   \n",
       "A1CF                          0                      0                      0   \n",
       "A2M                           0                      0                      0   \n",
       "A2M-AS1                       0                      0                      0   \n",
       "...                         ...                    ...                    ...   \n",
       "ZYG11A                        0                      0                      0   \n",
       "ZYG11B                        0                      0                      0   \n",
       "ZYX                           0                      0                      2   \n",
       "ZZEF1                         0                      0                      0   \n",
       "ZZZ3                          0                      1                      0   \n",
       "\n",
       "          OCI-AML3_AAACCGGAAACC  OCI-AML3_AAACGCTCCATN  OCI-AML3_AAAGCGCGCCCN  \\\n",
       "Gene                                                                            \n",
       "A1BG                          0                      0                      0   \n",
       "A1BG-AS1                      0                      0                      0   \n",
       "A1CF                          0                      0                      0   \n",
       "A2M                           0                      0                      0   \n",
       "A2M-AS1                       0                      0                      0   \n",
       "...                         ...                    ...                    ...   \n",
       "ZYG11A                        0                      0                      0   \n",
       "ZYG11B                        0                      0                      0   \n",
       "ZYX                           0                      0                      0   \n",
       "ZZEF1                         1                      0                      0   \n",
       "ZZZ3                          0                      2                      0   \n",
       "\n",
       "          OCI-AML3_AAAGCTTACTCG  ...  OCI-AML3_TTTCCTAGAGAT  \\\n",
       "Gene                             ...                          \n",
       "A1BG                          0  ...                      1   \n",
       "A1BG-AS1                      0  ...                      0   \n",
       "A1CF                          0  ...                      0   \n",
       "A2M                           0  ...                      0   \n",
       "A2M-AS1                       0  ...                      0   \n",
       "...                         ...  ...                    ...   \n",
       "ZYG11A                        0  ...                      0   \n",
       "ZYG11B                        0  ...                      0   \n",
       "ZYX                           0  ...                      0   \n",
       "ZZEF1                         0  ...                      0   \n",
       "ZZZ3                          0  ...                      0   \n",
       "\n",
       "          OCI-AML3_TTTCGACGAGGA  OCI-AML3_TTTCGCACGACA  OCI-AML3_TTTCGCTCCACA  \\\n",
       "Gene                                                                            \n",
       "A1BG                          0                      1                      0   \n",
       "A1BG-AS1                      0                      0                      0   \n",
       "A1CF                          0                      0                      0   \n",
       "A2M                           0                      0                      0   \n",
       "A2M-AS1                       0                      0                      0   \n",
       "...                         ...                    ...                    ...   \n",
       "ZYG11A                        0                      0                      0   \n",
       "ZYG11B                        0                      1                      0   \n",
       "ZYX                           0                      0                      0   \n",
       "ZZEF1                         0                      0                      0   \n",
       "ZZZ3                          0                      1                      1   \n",
       "\n",
       "          OCI-AML3_TTTCTTCCCCTG  OCI-AML3_TTTGAGCCAACC  OCI-AML3_TTTGCCACAGGC  \\\n",
       "Gene                                                                            \n",
       "A1BG                          0                      1                      0   \n",
       "A1BG-AS1                      0                      0                      0   \n",
       "A1CF                          0                      0                      0   \n",
       "A2M                           0                      0                      0   \n",
       "A2M-AS1                       0                      0                      0   \n",
       "...                         ...                    ...                    ...   \n",
       "ZYG11A                        0                      0                      0   \n",
       "ZYG11B                        0                      0                      0   \n",
       "ZYX                           0                      0                      0   \n",
       "ZZEF1                         0                      1                      0   \n",
       "ZZZ3                          0                      1                      0   \n",
       "\n",
       "          OCI-AML3_TTTTATGAATTN  OCI-AML3_TTTTGACTTTTN  OCI-AML3_TTTTGTGACCGT  \n",
       "Gene                                                                           \n",
       "A1BG                          0                      0                      0  \n",
       "A1BG-AS1                      0                      0                      0  \n",
       "A1CF                          0                      0                      0  \n",
       "A2M                           0                      0                      0  \n",
       "A2M-AS1                       0                      0                      0  \n",
       "...                         ...                    ...                    ...  \n",
       "ZYG11A                        0                      0                      0  \n",
       "ZYG11B                        0                      2                      0  \n",
       "ZYX                           0                      0                      0  \n",
       "ZZEF1                         0                      0                      0  \n",
       "ZZZ3                          0                      2                      0  \n",
       "\n",
       "[27899 rows x 1178 columns]"
      ]
     },
     "execution_count": 36,
     "metadata": {},
     "output_type": "execute_result"
    }
   ],
   "source": [
    "import pandas as pd\n",
    "\n",
    "dem = pd.read_table(sample1 + '.dem.txt.gz', index_col=0)\n",
    "dem"
   ]
  },
  {
   "cell_type": "code",
   "execution_count": 37,
   "metadata": {},
   "outputs": [
    {
     "data": {
      "text/html": [
       "<div>\n",
       "<style scoped>\n",
       "    .dataframe tbody tr th:only-of-type {\n",
       "        vertical-align: middle;\n",
       "    }\n",
       "\n",
       "    .dataframe tbody tr th {\n",
       "        vertical-align: top;\n",
       "    }\n",
       "\n",
       "    .dataframe thead th {\n",
       "        text-align: right;\n",
       "    }\n",
       "</style>\n",
       "<table border=\"1\" class=\"dataframe\">\n",
       "  <thead>\n",
       "    <tr style=\"text-align: right;\">\n",
       "      <th></th>\n",
       "      <th>NumberOfReads</th>\n",
       "      <th>AlignedToGenome</th>\n",
       "      <th>AlignedToTranscriptome</th>\n",
       "      <th>TranscriptomeUMIs</th>\n",
       "      <th>NumberOfGenes</th>\n",
       "      <th>CyclingScore</th>\n",
       "      <th>CyclingBinary</th>\n",
       "      <th>MutTranscripts</th>\n",
       "      <th>WtTranscripts</th>\n",
       "      <th>PredictionRF2</th>\n",
       "      <th>...</th>\n",
       "      <th>Score_cDC</th>\n",
       "      <th>Score_pDC</th>\n",
       "      <th>Score_earlyEry</th>\n",
       "      <th>Score_lateEry</th>\n",
       "      <th>Score_ProB</th>\n",
       "      <th>Score_B</th>\n",
       "      <th>Score_Plasma</th>\n",
       "      <th>Score_T</th>\n",
       "      <th>Score_CTL</th>\n",
       "      <th>Score_NK</th>\n",
       "    </tr>\n",
       "    <tr>\n",
       "      <th>Cell</th>\n",
       "      <th></th>\n",
       "      <th></th>\n",
       "      <th></th>\n",
       "      <th></th>\n",
       "      <th></th>\n",
       "      <th></th>\n",
       "      <th></th>\n",
       "      <th></th>\n",
       "      <th></th>\n",
       "      <th></th>\n",
       "      <th></th>\n",
       "      <th></th>\n",
       "      <th></th>\n",
       "      <th></th>\n",
       "      <th></th>\n",
       "      <th></th>\n",
       "      <th></th>\n",
       "      <th></th>\n",
       "      <th></th>\n",
       "      <th></th>\n",
       "      <th></th>\n",
       "    </tr>\n",
       "  </thead>\n",
       "  <tbody>\n",
       "    <tr>\n",
       "      <th>OCI-AML3_AAAAAGTATGGG</th>\n",
       "      <td>32424</td>\n",
       "      <td>23824</td>\n",
       "      <td>18516</td>\n",
       "      <td>4609</td>\n",
       "      <td>2021</td>\n",
       "      <td>1.300953</td>\n",
       "      <td>yes</td>\n",
       "      <td>NaN</td>\n",
       "      <td>NaN</td>\n",
       "      <td>normal</td>\n",
       "      <td>...</td>\n",
       "      <td>0.096</td>\n",
       "      <td>0.045</td>\n",
       "      <td>0.140</td>\n",
       "      <td>0.045</td>\n",
       "      <td>0.069</td>\n",
       "      <td>0.010</td>\n",
       "      <td>0.017</td>\n",
       "      <td>0.015</td>\n",
       "      <td>0.022</td>\n",
       "      <td>0.010</td>\n",
       "    </tr>\n",
       "    <tr>\n",
       "      <th>OCI-AML3_AAAAGACGACGG</th>\n",
       "      <td>8125</td>\n",
       "      <td>6371</td>\n",
       "      <td>4841</td>\n",
       "      <td>1104</td>\n",
       "      <td>689</td>\n",
       "      <td>0.641989</td>\n",
       "      <td>yes</td>\n",
       "      <td>NaN</td>\n",
       "      <td>NaN</td>\n",
       "      <td>normal</td>\n",
       "      <td>...</td>\n",
       "      <td>0.069</td>\n",
       "      <td>0.075</td>\n",
       "      <td>0.119</td>\n",
       "      <td>0.055</td>\n",
       "      <td>0.077</td>\n",
       "      <td>0.025</td>\n",
       "      <td>0.011</td>\n",
       "      <td>0.051</td>\n",
       "      <td>0.116</td>\n",
       "      <td>0.061</td>\n",
       "    </tr>\n",
       "    <tr>\n",
       "      <th>OCI-AML3_AAAATCTTTCCT</th>\n",
       "      <td>139122</td>\n",
       "      <td>109849</td>\n",
       "      <td>89186</td>\n",
       "      <td>19549</td>\n",
       "      <td>4486</td>\n",
       "      <td>0.419284</td>\n",
       "      <td>yes</td>\n",
       "      <td>NaN</td>\n",
       "      <td>NaN</td>\n",
       "      <td>normal</td>\n",
       "      <td>...</td>\n",
       "      <td>0.091</td>\n",
       "      <td>0.030</td>\n",
       "      <td>0.211</td>\n",
       "      <td>0.067</td>\n",
       "      <td>0.071</td>\n",
       "      <td>0.006</td>\n",
       "      <td>0.011</td>\n",
       "      <td>0.010</td>\n",
       "      <td>0.012</td>\n",
       "      <td>0.009</td>\n",
       "    </tr>\n",
       "    <tr>\n",
       "      <th>OCI-AML3_AAAATGCATTTN</th>\n",
       "      <td>8536</td>\n",
       "      <td>6370</td>\n",
       "      <td>4952</td>\n",
       "      <td>1227</td>\n",
       "      <td>656</td>\n",
       "      <td>0.033917</td>\n",
       "      <td>no</td>\n",
       "      <td>NaN</td>\n",
       "      <td>NaN</td>\n",
       "      <td>normal</td>\n",
       "      <td>...</td>\n",
       "      <td>0.076</td>\n",
       "      <td>0.060</td>\n",
       "      <td>0.145</td>\n",
       "      <td>0.053</td>\n",
       "      <td>0.091</td>\n",
       "      <td>0.026</td>\n",
       "      <td>0.026</td>\n",
       "      <td>0.042</td>\n",
       "      <td>0.040</td>\n",
       "      <td>0.028</td>\n",
       "    </tr>\n",
       "    <tr>\n",
       "      <th>OCI-AML3_AAAATTTTCCGC</th>\n",
       "      <td>22810</td>\n",
       "      <td>18234</td>\n",
       "      <td>13811</td>\n",
       "      <td>3295</td>\n",
       "      <td>1560</td>\n",
       "      <td>0.837153</td>\n",
       "      <td>yes</td>\n",
       "      <td>NaN</td>\n",
       "      <td>NaN</td>\n",
       "      <td>normal</td>\n",
       "      <td>...</td>\n",
       "      <td>0.092</td>\n",
       "      <td>0.070</td>\n",
       "      <td>0.110</td>\n",
       "      <td>0.048</td>\n",
       "      <td>0.051</td>\n",
       "      <td>0.019</td>\n",
       "      <td>0.010</td>\n",
       "      <td>0.023</td>\n",
       "      <td>0.057</td>\n",
       "      <td>0.033</td>\n",
       "    </tr>\n",
       "    <tr>\n",
       "      <th>...</th>\n",
       "      <td>...</td>\n",
       "      <td>...</td>\n",
       "      <td>...</td>\n",
       "      <td>...</td>\n",
       "      <td>...</td>\n",
       "      <td>...</td>\n",
       "      <td>...</td>\n",
       "      <td>...</td>\n",
       "      <td>...</td>\n",
       "      <td>...</td>\n",
       "      <td>...</td>\n",
       "      <td>...</td>\n",
       "      <td>...</td>\n",
       "      <td>...</td>\n",
       "      <td>...</td>\n",
       "      <td>...</td>\n",
       "      <td>...</td>\n",
       "      <td>...</td>\n",
       "      <td>...</td>\n",
       "      <td>...</td>\n",
       "      <td>...</td>\n",
       "    </tr>\n",
       "    <tr>\n",
       "      <th>OCI-AML3_TTTGAGCCAACC</th>\n",
       "      <td>79256</td>\n",
       "      <td>62517</td>\n",
       "      <td>42990</td>\n",
       "      <td>9584</td>\n",
       "      <td>3107</td>\n",
       "      <td>1.004912</td>\n",
       "      <td>yes</td>\n",
       "      <td>NaN</td>\n",
       "      <td>NaN</td>\n",
       "      <td>normal</td>\n",
       "      <td>...</td>\n",
       "      <td>0.076</td>\n",
       "      <td>0.035</td>\n",
       "      <td>0.157</td>\n",
       "      <td>0.052</td>\n",
       "      <td>0.100</td>\n",
       "      <td>0.012</td>\n",
       "      <td>0.011</td>\n",
       "      <td>0.007</td>\n",
       "      <td>0.014</td>\n",
       "      <td>0.008</td>\n",
       "    </tr>\n",
       "    <tr>\n",
       "      <th>OCI-AML3_TTTGCCACAGGC</th>\n",
       "      <td>36054</td>\n",
       "      <td>28412</td>\n",
       "      <td>22774</td>\n",
       "      <td>6055</td>\n",
       "      <td>2362</td>\n",
       "      <td>0.267080</td>\n",
       "      <td>no</td>\n",
       "      <td>NaN</td>\n",
       "      <td>NaN</td>\n",
       "      <td>normal</td>\n",
       "      <td>...</td>\n",
       "      <td>0.125</td>\n",
       "      <td>0.039</td>\n",
       "      <td>0.144</td>\n",
       "      <td>0.031</td>\n",
       "      <td>0.047</td>\n",
       "      <td>0.006</td>\n",
       "      <td>0.008</td>\n",
       "      <td>0.014</td>\n",
       "      <td>0.006</td>\n",
       "      <td>0.016</td>\n",
       "    </tr>\n",
       "    <tr>\n",
       "      <th>OCI-AML3_TTTTATGAATTN</th>\n",
       "      <td>11816</td>\n",
       "      <td>9503</td>\n",
       "      <td>7590</td>\n",
       "      <td>2089</td>\n",
       "      <td>1272</td>\n",
       "      <td>1.209593</td>\n",
       "      <td>yes</td>\n",
       "      <td>NaN</td>\n",
       "      <td>NaN</td>\n",
       "      <td>normal</td>\n",
       "      <td>...</td>\n",
       "      <td>0.098</td>\n",
       "      <td>0.081</td>\n",
       "      <td>0.113</td>\n",
       "      <td>0.057</td>\n",
       "      <td>0.060</td>\n",
       "      <td>0.020</td>\n",
       "      <td>0.024</td>\n",
       "      <td>0.030</td>\n",
       "      <td>0.100</td>\n",
       "      <td>0.061</td>\n",
       "    </tr>\n",
       "    <tr>\n",
       "      <th>OCI-AML3_TTTTGACTTTTN</th>\n",
       "      <td>50487</td>\n",
       "      <td>41401</td>\n",
       "      <td>33740</td>\n",
       "      <td>8435</td>\n",
       "      <td>2976</td>\n",
       "      <td>0.656488</td>\n",
       "      <td>yes</td>\n",
       "      <td>NaN</td>\n",
       "      <td>NaN</td>\n",
       "      <td>normal</td>\n",
       "      <td>...</td>\n",
       "      <td>0.080</td>\n",
       "      <td>0.037</td>\n",
       "      <td>0.169</td>\n",
       "      <td>0.057</td>\n",
       "      <td>0.065</td>\n",
       "      <td>0.011</td>\n",
       "      <td>0.019</td>\n",
       "      <td>0.012</td>\n",
       "      <td>0.015</td>\n",
       "      <td>0.017</td>\n",
       "    </tr>\n",
       "    <tr>\n",
       "      <th>OCI-AML3_TTTTGTGACCGT</th>\n",
       "      <td>12287</td>\n",
       "      <td>9834</td>\n",
       "      <td>7803</td>\n",
       "      <td>2029</td>\n",
       "      <td>1109</td>\n",
       "      <td>0.212382</td>\n",
       "      <td>no</td>\n",
       "      <td>NaN</td>\n",
       "      <td>NaN</td>\n",
       "      <td>normal</td>\n",
       "      <td>...</td>\n",
       "      <td>0.059</td>\n",
       "      <td>0.072</td>\n",
       "      <td>0.159</td>\n",
       "      <td>0.081</td>\n",
       "      <td>0.068</td>\n",
       "      <td>0.014</td>\n",
       "      <td>0.017</td>\n",
       "      <td>0.038</td>\n",
       "      <td>0.025</td>\n",
       "      <td>0.027</td>\n",
       "    </tr>\n",
       "  </tbody>\n",
       "</table>\n",
       "<p>1178 rows × 27 columns</p>\n",
       "</div>"
      ],
      "text/plain": [
       "                       NumberOfReads  AlignedToGenome  AlignedToTranscriptome  \\\n",
       "Cell                                                                            \n",
       "OCI-AML3_AAAAAGTATGGG          32424            23824                   18516   \n",
       "OCI-AML3_AAAAGACGACGG           8125             6371                    4841   \n",
       "OCI-AML3_AAAATCTTTCCT         139122           109849                   89186   \n",
       "OCI-AML3_AAAATGCATTTN           8536             6370                    4952   \n",
       "OCI-AML3_AAAATTTTCCGC          22810            18234                   13811   \n",
       "...                              ...              ...                     ...   \n",
       "OCI-AML3_TTTGAGCCAACC          79256            62517                   42990   \n",
       "OCI-AML3_TTTGCCACAGGC          36054            28412                   22774   \n",
       "OCI-AML3_TTTTATGAATTN          11816             9503                    7590   \n",
       "OCI-AML3_TTTTGACTTTTN          50487            41401                   33740   \n",
       "OCI-AML3_TTTTGTGACCGT          12287             9834                    7803   \n",
       "\n",
       "                       TranscriptomeUMIs  NumberOfGenes  CyclingScore  \\\n",
       "Cell                                                                    \n",
       "OCI-AML3_AAAAAGTATGGG               4609           2021      1.300953   \n",
       "OCI-AML3_AAAAGACGACGG               1104            689      0.641989   \n",
       "OCI-AML3_AAAATCTTTCCT              19549           4486      0.419284   \n",
       "OCI-AML3_AAAATGCATTTN               1227            656      0.033917   \n",
       "OCI-AML3_AAAATTTTCCGC               3295           1560      0.837153   \n",
       "...                                  ...            ...           ...   \n",
       "OCI-AML3_TTTGAGCCAACC               9584           3107      1.004912   \n",
       "OCI-AML3_TTTGCCACAGGC               6055           2362      0.267080   \n",
       "OCI-AML3_TTTTATGAATTN               2089           1272      1.209593   \n",
       "OCI-AML3_TTTTGACTTTTN               8435           2976      0.656488   \n",
       "OCI-AML3_TTTTGTGACCGT               2029           1109      0.212382   \n",
       "\n",
       "                      CyclingBinary  MutTranscripts  WtTranscripts  \\\n",
       "Cell                                                                 \n",
       "OCI-AML3_AAAAAGTATGGG           yes             NaN            NaN   \n",
       "OCI-AML3_AAAAGACGACGG           yes             NaN            NaN   \n",
       "OCI-AML3_AAAATCTTTCCT           yes             NaN            NaN   \n",
       "OCI-AML3_AAAATGCATTTN            no             NaN            NaN   \n",
       "OCI-AML3_AAAATTTTCCGC           yes             NaN            NaN   \n",
       "...                             ...             ...            ...   \n",
       "OCI-AML3_TTTGAGCCAACC           yes             NaN            NaN   \n",
       "OCI-AML3_TTTGCCACAGGC            no             NaN            NaN   \n",
       "OCI-AML3_TTTTATGAATTN           yes             NaN            NaN   \n",
       "OCI-AML3_TTTTGACTTTTN           yes             NaN            NaN   \n",
       "OCI-AML3_TTTTGTGACCGT            no             NaN            NaN   \n",
       "\n",
       "                      PredictionRF2  ... Score_cDC Score_pDC  Score_earlyEry  \\\n",
       "Cell                                 ...                                       \n",
       "OCI-AML3_AAAAAGTATGGG        normal  ...     0.096     0.045           0.140   \n",
       "OCI-AML3_AAAAGACGACGG        normal  ...     0.069     0.075           0.119   \n",
       "OCI-AML3_AAAATCTTTCCT        normal  ...     0.091     0.030           0.211   \n",
       "OCI-AML3_AAAATGCATTTN        normal  ...     0.076     0.060           0.145   \n",
       "OCI-AML3_AAAATTTTCCGC        normal  ...     0.092     0.070           0.110   \n",
       "...                             ...  ...       ...       ...             ...   \n",
       "OCI-AML3_TTTGAGCCAACC        normal  ...     0.076     0.035           0.157   \n",
       "OCI-AML3_TTTGCCACAGGC        normal  ...     0.125     0.039           0.144   \n",
       "OCI-AML3_TTTTATGAATTN        normal  ...     0.098     0.081           0.113   \n",
       "OCI-AML3_TTTTGACTTTTN        normal  ...     0.080     0.037           0.169   \n",
       "OCI-AML3_TTTTGTGACCGT        normal  ...     0.059     0.072           0.159   \n",
       "\n",
       "                       Score_lateEry  Score_ProB  Score_B  Score_Plasma  \\\n",
       "Cell                                                                      \n",
       "OCI-AML3_AAAAAGTATGGG          0.045       0.069    0.010         0.017   \n",
       "OCI-AML3_AAAAGACGACGG          0.055       0.077    0.025         0.011   \n",
       "OCI-AML3_AAAATCTTTCCT          0.067       0.071    0.006         0.011   \n",
       "OCI-AML3_AAAATGCATTTN          0.053       0.091    0.026         0.026   \n",
       "OCI-AML3_AAAATTTTCCGC          0.048       0.051    0.019         0.010   \n",
       "...                              ...         ...      ...           ...   \n",
       "OCI-AML3_TTTGAGCCAACC          0.052       0.100    0.012         0.011   \n",
       "OCI-AML3_TTTGCCACAGGC          0.031       0.047    0.006         0.008   \n",
       "OCI-AML3_TTTTATGAATTN          0.057       0.060    0.020         0.024   \n",
       "OCI-AML3_TTTTGACTTTTN          0.057       0.065    0.011         0.019   \n",
       "OCI-AML3_TTTTGTGACCGT          0.081       0.068    0.014         0.017   \n",
       "\n",
       "                       Score_T  Score_CTL  Score_NK  \n",
       "Cell                                                 \n",
       "OCI-AML3_AAAAAGTATGGG    0.015      0.022     0.010  \n",
       "OCI-AML3_AAAAGACGACGG    0.051      0.116     0.061  \n",
       "OCI-AML3_AAAATCTTTCCT    0.010      0.012     0.009  \n",
       "OCI-AML3_AAAATGCATTTN    0.042      0.040     0.028  \n",
       "OCI-AML3_AAAATTTTCCGC    0.023      0.057     0.033  \n",
       "...                        ...        ...       ...  \n",
       "OCI-AML3_TTTGAGCCAACC    0.007      0.014     0.008  \n",
       "OCI-AML3_TTTGCCACAGGC    0.014      0.006     0.016  \n",
       "OCI-AML3_TTTTATGAATTN    0.030      0.100     0.061  \n",
       "OCI-AML3_TTTTGACTTTTN    0.012      0.015     0.017  \n",
       "OCI-AML3_TTTTGTGACCGT    0.038      0.025     0.027  \n",
       "\n",
       "[1178 rows x 27 columns]"
      ]
     },
     "execution_count": 37,
     "metadata": {},
     "output_type": "execute_result"
    }
   ],
   "source": [
    "anno = pd.read_table(sample1 + '.anno.txt.gz', index_col=0)\n",
    "anno"
   ]
  },
  {
   "cell_type": "code",
   "execution_count": 39,
   "metadata": {},
   "outputs": [
    {
     "data": {
      "text/plain": [
       "AnnData object with n_obs × n_vars = 1178 × 27899\n",
       "    obs: 'NumberOfReads', 'AlignedToGenome', 'AlignedToTranscriptome', 'TranscriptomeUMIs', 'NumberOfGenes', 'CyclingScore', 'CyclingBinary', 'MutTranscripts', 'WtTranscripts', 'PredictionRF2', 'PredictionRefined', 'CellType', 'Score_HSC', 'Score_Prog', 'Score_GMP', 'Score_ProMono', 'Score_Mono', 'Score_cDC', 'Score_pDC', 'Score_earlyEry', 'Score_lateEry', 'Score_ProB', 'Score_B', 'Score_Plasma', 'Score_T', 'Score_CTL', 'Score_NK'"
      ]
     },
     "execution_count": 39,
     "metadata": {},
     "output_type": "execute_result"
    }
   ],
   "source": [
    "# so let's create a single-cell object now\n",
    "import scanpy as sc\n",
    "\n",
    "adata = sc.AnnData(X = dem.T.values, obs=anno)\n",
    "adata\n",
    "# this means there is 1178 cells with 27899 genes"
   ]
  },
  {
   "cell_type": "code",
   "execution_count": 46,
   "metadata": {},
   "outputs": [
    {
     "data": {
      "text/plain": [
       "[]"
      ]
     },
     "execution_count": 46,
     "metadata": {},
     "output_type": "execute_result"
    }
   ],
   "source": [
    "# that was for just 1 file. Now let's read in all of them\n",
    "\n",
    "# we have the information we need above\n",
    "\n",
    "# so add them all into a single list, we first create an empty list\n",
    "adata_list = []\n",
    "adata_list"
   ]
  },
  {
   "cell_type": "code",
   "execution_count": 47,
   "metadata": {},
   "outputs": [
    {
     "name": "stdout",
     "output_type": "stream",
     "text": [
      "[]\n",
      "['apple']\n",
      "['apple', 'boy']\n"
     ]
    }
   ],
   "source": [
    "# so what is append?\n",
    "# say my empty list example  is list1\n",
    "list1 =[]\n",
    "print(list1)\n",
    "# now, append the word apple and boy\n",
    "list1.append(\"apple\")\n",
    "print(list1)\n",
    "list1.append(\"boy\")\n",
    "print(list1)"
   ]
  },
  {
   "cell_type": "code",
   "execution_count": 49,
   "metadata": {},
   "outputs": [],
   "source": [
    "# we will use a progress bar to track the reading\n",
    "from tqdm import tqdm"
   ]
  },
  {
   "cell_type": "code",
   "execution_count": 52,
   "metadata": {},
   "outputs": [
    {
     "name": "stderr",
     "output_type": "stream",
     "text": [
      "  1%|          | 1/89 [00:07<10:19,  7.04s/it]"
     ]
    },
    {
     "name": "stdout",
     "output_type": "stream",
     "text": [
      "check if needs to redownload sample:  GSM3587972_AML707B-D113\n",
      "check if needs to redownload sample:  GSM3587943_AML329-D20\n"
     ]
    },
    {
     "name": "stderr",
     "output_type": "stream",
     "text": [
      "  4%|▍         | 4/89 [00:07<02:00,  1.42s/it]"
     ]
    },
    {
     "name": "stdout",
     "output_type": "stream",
     "text": [
      "check if needs to redownload sample:  GSM3587961_AML475-D29\n"
     ]
    },
    {
     "name": "stderr",
     "output_type": "stream",
     "text": [
      "  6%|▌         | 5/89 [00:14<04:05,  2.92s/it]"
     ]
    },
    {
     "name": "stdout",
     "output_type": "stream",
     "text": [
      "check if needs to redownload sample:  GSM3587973_AML707B-D18\n",
      "check if needs to redownload sample:  GSM3587983_AML722B-D49\n",
      "check if needs to redownload sample:  GSM3587926_AML210A-D0\n"
     ]
    },
    {
     "name": "stderr",
     "output_type": "stream",
     "text": [
      "  9%|▉         | 8/89 [00:30<05:41,  4.22s/it]"
     ]
    },
    {
     "name": "stdout",
     "output_type": "stream",
     "text": [
      "check if needs to redownload sample:  GSM3587990_AML921A-D0\n"
     ]
    },
    {
     "name": "stderr",
     "output_type": "stream",
     "text": [
      " 10%|█         | 9/89 [00:31<04:50,  3.63s/it]"
     ]
    },
    {
     "name": "stdout",
     "output_type": "stream",
     "text": [
      "check if needs to redownload sample:  GSM3587940_AML329-D0\n",
      "check if needs to redownload sample:  GSM3587928_AML314-D0\n"
     ]
    },
    {
     "name": "stderr",
     "output_type": "stream",
     "text": [
      " 12%|█▏        | 11/89 [00:41<05:16,  4.06s/it]"
     ]
    },
    {
     "name": "stdout",
     "output_type": "stream",
     "text": [
      "check if needs to redownload sample:  GSM3587963_AML556-D0\n"
     ]
    },
    {
     "name": "stderr",
     "output_type": "stream",
     "text": [
      " 13%|█▎        | 12/89 [00:42<04:23,  3.42s/it]"
     ]
    },
    {
     "name": "stdout",
     "output_type": "stream",
     "text": [
      "check if needs to redownload sample:  GSM3587929_AML314-D31\n"
     ]
    },
    {
     "name": "stderr",
     "output_type": "stream",
     "text": [
      " 15%|█▍        | 13/89 [00:44<04:06,  3.24s/it]"
     ]
    },
    {
     "name": "stdout",
     "output_type": "stream",
     "text": [
      "check if needs to redownload sample:  GSM3587946_AML371-D0\n",
      "check if needs to redownload sample:  GSM3587978_AML707B-D97\n"
     ]
    },
    {
     "name": "stderr",
     "output_type": "stream",
     "text": [
      " 17%|█▋        | 15/89 [00:49<03:35,  2.91s/it]"
     ]
    },
    {
     "name": "stdout",
     "output_type": "stream",
     "text": [
      "check if needs to redownload sample:  GSM3587967_AML556-D31\n"
     ]
    },
    {
     "name": "stderr",
     "output_type": "stream",
     "text": [
      " 18%|█▊        | 16/89 [00:51<03:17,  2.71s/it]"
     ]
    },
    {
     "name": "stdout",
     "output_type": "stream",
     "text": [
      "check if needs to redownload sample:  GSM3587925_AML210A-D0\n"
     ]
    },
    {
     "name": "stderr",
     "output_type": "stream",
     "text": [
      " 19%|█▉        | 17/89 [00:51<02:36,  2.17s/it]"
     ]
    },
    {
     "name": "stdout",
     "output_type": "stream",
     "text": [
      "check if needs to redownload sample:  GSM3587994_AML997-D35\n",
      "check if needs to redownload sample:  GSM3587962_AML475-D29\n",
      "check if needs to redownload sample:  GSM3587941_AML329-D0\n",
      "check if needs to redownload sample:  GSM3587956_AML420B-D14\n"
     ]
    },
    {
     "name": "stderr",
     "output_type": "stream",
     "text": [
      " 24%|██▎       | 21/89 [00:52<01:05,  1.03it/s]"
     ]
    },
    {
     "name": "stdout",
     "output_type": "stream",
     "text": [
      "check if needs to redownload sample:  GSM3587986_AML870-D14\n",
      "check if needs to redownload sample:  GSM3587991_AML921A-D0\n",
      "check if needs to redownload sample:  GSM3587964_AML556-D0\n"
     ]
    },
    {
     "name": "stderr",
     "output_type": "stream",
     "text": [
      " 27%|██▋       | 24/89 [00:55<01:03,  1.02it/s]"
     ]
    },
    {
     "name": "stdout",
     "output_type": "stream",
     "text": [
      "check if needs to redownload sample:  GSM3587942_AML329-D20\n"
     ]
    },
    {
     "name": "stderr",
     "output_type": "stream",
     "text": [
      " 30%|███       | 27/89 [01:17<04:22,  4.24s/it]"
     ]
    },
    {
     "name": "stdout",
     "output_type": "stream",
     "text": [
      "check if needs to redownload sample:  GSM3587995_AML997-D35\n"
     ]
    },
    {
     "name": "stderr",
     "output_type": "stream",
     "text": [
      " 33%|███▎      | 29/89 [01:21<03:29,  3.49s/it]"
     ]
    },
    {
     "name": "stdout",
     "output_type": "stream",
     "text": [
      "check if needs to redownload sample:  GSM3587931_AML328-D0\n"
     ]
    },
    {
     "name": "stderr",
     "output_type": "stream",
     "text": [
      " 35%|███▍      | 31/89 [01:33<04:45,  4.92s/it]"
     ]
    },
    {
     "name": "stdout",
     "output_type": "stream",
     "text": [
      "check if needs to redownload sample:  GSM3587937_AML328-D29\n"
     ]
    },
    {
     "name": "stderr",
     "output_type": "stream",
     "text": [
      " 36%|███▌      | 32/89 [01:45<06:19,  6.66s/it]"
     ]
    },
    {
     "name": "stdout",
     "output_type": "stream",
     "text": [
      "check if needs to redownload sample:  GSM3587965_AML556-D15\n"
     ]
    },
    {
     "name": "stderr",
     "output_type": "stream",
     "text": [
      " 37%|███▋      | 33/89 [01:52<06:14,  6.68s/it]"
     ]
    },
    {
     "name": "stdout",
     "output_type": "stream",
     "text": [
      "check if needs to redownload sample:  GSM3587923_AML1012-D0\n",
      "check if needs to redownload sample:  GSM3587938_AML328-D29\n"
     ]
    },
    {
     "name": "stderr",
     "output_type": "stream",
     "text": [
      " 42%|████▏     | 37/89 [02:08<04:11,  4.83s/it]"
     ]
    },
    {
     "name": "stdout",
     "output_type": "stream",
     "text": [
      "check if needs to redownload sample:  GSM3587950_AML419A-D0\n"
     ]
    },
    {
     "name": "stderr",
     "output_type": "stream",
     "text": [
      " 43%|████▎     | 38/89 [02:08<03:07,  3.68s/it]"
     ]
    },
    {
     "name": "stdout",
     "output_type": "stream",
     "text": [
      "check if needs to redownload sample:  GSM3587980_AML722B-D0\n",
      "check if needs to redownload sample:  GSM3587951_AML419A-D0\n"
     ]
    },
    {
     "name": "stderr",
     "output_type": "stream",
     "text": [
      " 46%|████▌     | 41/89 [02:18<03:06,  3.88s/it]"
     ]
    },
    {
     "name": "stdout",
     "output_type": "stream",
     "text": [
      "check if needs to redownload sample:  GSM3587969_AML707B-D0\n"
     ]
    },
    {
     "name": "stderr",
     "output_type": "stream",
     "text": [
      " 47%|████▋     | 42/89 [02:20<02:44,  3.51s/it]"
     ]
    },
    {
     "name": "stdout",
     "output_type": "stream",
     "text": [
      "check if needs to redownload sample:  GSM3587953_AML420B-D0\n"
     ]
    },
    {
     "name": "stderr",
     "output_type": "stream",
     "text": [
      " 49%|████▉     | 44/89 [02:23<01:53,  2.52s/it]"
     ]
    },
    {
     "name": "stdout",
     "output_type": "stream",
     "text": [
      "check if needs to redownload sample:  GSM3587944_AML329-D37\n"
     ]
    },
    {
     "name": "stderr",
     "output_type": "stream",
     "text": [
      " 51%|█████     | 45/89 [02:27<02:08,  2.92s/it]"
     ]
    },
    {
     "name": "stdout",
     "output_type": "stream",
     "text": [
      "check if needs to redownload sample:  GSM3587971_AML707B-D113\n"
     ]
    },
    {
     "name": "stderr",
     "output_type": "stream",
     "text": [
      " 52%|█████▏    | 46/89 [02:28<01:39,  2.31s/it]"
     ]
    },
    {
     "name": "stdout",
     "output_type": "stream",
     "text": [
      "check if needs to redownload sample:  GSM3587982_AML722B-D49\n",
      "check if needs to redownload sample:  GSM3587952_AML419A\n"
     ]
    },
    {
     "name": "stderr",
     "output_type": "stream",
     "text": [
      " 54%|█████▍    | 48/89 [02:33<01:39,  2.43s/it]"
     ]
    },
    {
     "name": "stdout",
     "output_type": "stream",
     "text": [
      "check if needs to redownload sample:  GSM3587974_AML707B-D18\n"
     ]
    },
    {
     "name": "stderr",
     "output_type": "stream",
     "text": [
      " 56%|█████▌    | 50/89 [02:34<01:07,  1.73s/it]"
     ]
    },
    {
     "name": "stdout",
     "output_type": "stream",
     "text": [
      "check if needs to redownload sample:  GSM3587959_AML475-D0\n",
      "check if needs to redownload sample:  GSM3587987_AML870-D14\n",
      "check if needs to redownload sample:  GSM3587960_AML475-D0\n",
      "check if needs to redownload sample:  GSM3587989_AML916-D0\n"
     ]
    },
    {
     "name": "stderr",
     "output_type": "stream",
     "text": [
      " 61%|██████    | 54/89 [02:35<00:33,  1.04it/s]"
     ]
    },
    {
     "name": "stdout",
     "output_type": "stream",
     "text": [
      "check if needs to redownload sample:  GSM3587984_AML870-D0\n",
      "check if needs to redownload sample:  GSM3587999_BM3\n",
      "check if needs to redownload sample:  GSM3587932_AML328-D0\n",
      "check if needs to redownload sample:  GSM3587968_AML556-D31\n",
      "check if needs to redownload sample:  GSM3587976_AML707B-D41\n"
     ]
    },
    {
     "name": "stderr",
     "output_type": "stream",
     "text": [
      " 66%|██████▋   | 59/89 [02:40<00:28,  1.04it/s]"
     ]
    },
    {
     "name": "stdout",
     "output_type": "stream",
     "text": [
      "check if needs to redownload sample:  GSM3587939_AML328\n",
      "check if needs to redownload sample:  GSM3587947_AML371-D0\n"
     ]
    },
    {
     "name": "stderr",
     "output_type": "stream",
     "text": [
      " 70%|██████▉   | 62/89 [02:44<00:28,  1.06s/it]"
     ]
    },
    {
     "name": "stdout",
     "output_type": "stream",
     "text": [
      "check if needs to redownload sample:  GSM3587945_AML329-D37\n"
     ]
    },
    {
     "name": "stderr",
     "output_type": "stream",
     "text": [
      " 72%|███████▏  | 64/89 [02:44<00:21,  1.17it/s]"
     ]
    },
    {
     "name": "stdout",
     "output_type": "stream",
     "text": [
      "check if needs to redownload sample:  GSM3587992_AML997-D0\n"
     ]
    },
    {
     "name": "stderr",
     "output_type": "stream",
     "text": [
      " 73%|███████▎  | 65/89 [02:48<00:30,  1.28s/it]"
     ]
    },
    {
     "name": "stdout",
     "output_type": "stream",
     "text": [
      "check if needs to redownload sample:  GSM3587935_AML328-D171\n",
      "check if needs to redownload sample:  GSM3587979_AML707B\n",
      "check if needs to redownload sample:  GSM3587981_AML722B-D0\n"
     ]
    },
    {
     "name": "stderr",
     "output_type": "stream",
     "text": [
      " 76%|███████▋  | 68/89 [02:49<00:18,  1.15it/s]"
     ]
    },
    {
     "name": "stdout",
     "output_type": "stream",
     "text": [
      "check if needs to redownload sample:  GSM3587927_AML314-D0\n",
      "check if needs to redownload sample:  GSM3587934_AML328-D113\n"
     ]
    },
    {
     "name": "stderr",
     "output_type": "stream",
     "text": [
      " 79%|███████▊  | 70/89 [02:49<00:13,  1.41it/s]"
     ]
    },
    {
     "name": "stdout",
     "output_type": "stream",
     "text": [
      "check if needs to redownload sample:  GSM3587977_AML707B-D97\n"
     ]
    },
    {
     "name": "stderr",
     "output_type": "stream",
     "text": [
      " 80%|███████▉  | 71/89 [03:06<00:56,  3.14s/it]"
     ]
    },
    {
     "name": "stdout",
     "output_type": "stream",
     "text": [
      "check if needs to redownload sample:  GSM3588000_BM4\n"
     ]
    },
    {
     "name": "stderr",
     "output_type": "stream",
     "text": [
      " 81%|████████  | 72/89 [03:20<01:29,  5.26s/it]"
     ]
    },
    {
     "name": "stdout",
     "output_type": "stream",
     "text": [
      "check if needs to redownload sample:  GSM3587933_AML328-D113\n"
     ]
    },
    {
     "name": "stderr",
     "output_type": "stream",
     "text": [
      " 82%|████████▏ | 73/89 [03:25<01:22,  5.14s/it]"
     ]
    },
    {
     "name": "stdout",
     "output_type": "stream",
     "text": [
      "check if needs to redownload sample:  GSM3587955_AML420B-D14\n"
     ]
    },
    {
     "name": "stderr",
     "output_type": "stream",
     "text": [
      " 83%|████████▎ | 74/89 [03:27<01:05,  4.37s/it]"
     ]
    },
    {
     "name": "stdout",
     "output_type": "stream",
     "text": [
      "check if needs to redownload sample:  GSM3587948_AML371-D34\n",
      "check if needs to redownload sample:  GSM3587958_AML420B-D35\n"
     ]
    },
    {
     "name": "stderr",
     "output_type": "stream",
     "text": [
      " 85%|████████▌ | 76/89 [03:30<00:43,  3.36s/it]"
     ]
    },
    {
     "name": "stdout",
     "output_type": "stream",
     "text": [
      "check if needs to redownload sample:  GSM3587975_AML707B-D41\n",
      "check if needs to redownload sample:  GSM3587970_AML707B-D0\n"
     ]
    },
    {
     "name": "stderr",
     "output_type": "stream",
     "text": [
      " 88%|████████▊ | 78/89 [03:34<00:30,  2.79s/it]"
     ]
    },
    {
     "name": "stdout",
     "output_type": "stream",
     "text": [
      "check if needs to redownload sample:  GSM3587988_AML916-D0\n",
      "check if needs to redownload sample:  GSM3588001_BM4\n",
      "check if needs to redownload sample:  GSM3587985_AML870-D0\n",
      "check if needs to redownload sample:  GSM3587924_AML1012-D0\n"
     ]
    },
    {
     "name": "stderr",
     "output_type": "stream",
     "text": [
      " 92%|█████████▏| 82/89 [03:39<00:13,  1.98s/it]"
     ]
    },
    {
     "name": "stdout",
     "output_type": "stream",
     "text": [
      "check if needs to redownload sample:  GSM3587998_BM3\n",
      "check if needs to redownload sample:  GSM3587936_AML328-D171\n",
      "check if needs to redownload sample:  GSM3587966_AML556-D15\n",
      "check if needs to redownload sample:  GSM3587954_AML420B-D0\n",
      "check if needs to redownload sample:  GSM3587949_AML371-D34\n",
      "check if needs to redownload sample:  GSM3587993_AML997-D0\n"
     ]
    },
    {
     "name": "stderr",
     "output_type": "stream",
     "text": [
      "100%|██████████| 89/89 [03:47<00:00,  2.55s/it]"
     ]
    },
    {
     "name": "stdout",
     "output_type": "stream",
     "text": [
      "check if needs to redownload sample:  GSM3587957_AML420B-D35\n",
      "check if needs to redownload sample:  GSM3587930_AML314-D31\n"
     ]
    },
    {
     "name": "stderr",
     "output_type": "stream",
     "text": [
      "\n"
     ]
    }
   ],
   "source": [
    "# so now, we iterate through the list of sample_ids, and add (or append) to our list, iteratively\n",
    "adata_list = []\n",
    "for sample in tqdm(sample_id):\n",
    "    try:\n",
    "        dem = pd.read_table(sample + '.dem.txt.gz', index_col=0)\n",
    "        anno = pd.read_table(sample + '.anno.txt.gz', index_col=0)\n",
    "        adata = sc.AnnData(X = dem.T.values, obs=anno)\n",
    "        # let's also add in the patient_id_with_day information\n",
    "        # we use a dictionary\n",
    "        adata.obs[\"patient_id_with_day\"] = sample_dict[sample] # this will populate the \"patient_id_with_day\" column in adata.obs with whatever is in sample_dict[sample]\n",
    "        adata_list.append(adata)\n",
    "    except:\n",
    "        print(\"check if needs to redownload sample: \", sample)\n",
    "    "
   ]
  },
  {
   "cell_type": "code",
   "execution_count": 53,
   "metadata": {},
   "outputs": [
    {
     "name": "stderr",
     "output_type": "stream",
     "text": [
      "/Users/randyramdial/anaconda3/envs/MEDI7281/lib/python3.11/site-packages/anndata/_core/anndata.py:1830: UserWarning: Observation names are not unique. To make them unique, call `.obs_names_make_unique`.\n",
      "  utils.warn_names_duplicates(\"obs\")\n"
     ]
    },
    {
     "data": {
      "text/plain": [
       "AnnData object with n_obs × n_vars = 11994 × 27899\n",
       "    obs: 'NumberOfReads', 'AlignedToGenome', 'AlignedToTranscriptome', 'TranscriptomeUMIs', 'NumberOfGenes', 'CyclingScore', 'CyclingBinary', 'MutTranscripts', 'WtTranscripts', 'PredictionRF2', 'PredictionRefined', 'CellType', 'Score_HSC', 'Score_Prog', 'Score_GMP', 'Score_ProMono', 'Score_Mono', 'Score_cDC', 'Score_pDC', 'Score_earlyEry', 'Score_lateEry', 'Score_ProB', 'Score_B', 'Score_Plasma', 'Score_T', 'Score_CTL', 'Score_NK', 'patient_id_with_day'"
      ]
     },
     "execution_count": 53,
     "metadata": {},
     "output_type": "execute_result"
    }
   ],
   "source": [
    "# concatenate everything into a single object called adata\n",
    "adata = sc.concat(adata_list)\n",
    "adata"
   ]
  },
  {
   "cell_type": "code",
   "execution_count": 54,
   "metadata": {},
   "outputs": [
    {
     "data": {
      "text/plain": [
       "AnnData object with n_obs × n_vars = 11994 × 27899\n",
       "    obs: 'NumberOfReads', 'AlignedToGenome', 'AlignedToTranscriptome', 'TranscriptomeUMIs', 'NumberOfGenes', 'CyclingScore', 'CyclingBinary', 'MutTranscripts', 'WtTranscripts', 'PredictionRF2', 'PredictionRefined', 'CellType', 'Score_HSC', 'Score_Prog', 'Score_GMP', 'Score_ProMono', 'Score_Mono', 'Score_cDC', 'Score_pDC', 'Score_earlyEry', 'Score_lateEry', 'Score_ProB', 'Score_B', 'Score_Plasma', 'Score_T', 'Score_CTL', 'Score_NK', 'patient_id_with_day'"
      ]
     },
     "execution_count": 54,
     "metadata": {},
     "output_type": "execute_result"
    }
   ],
   "source": [
    "adata.obs_names_make_unique()\n",
    "adata"
   ]
  },
  {
   "cell_type": "code",
   "execution_count": 56,
   "metadata": {},
   "outputs": [],
   "source": [
    "# let's save this\n",
    "adata.write_h5ad(\"/Users/randyramdial/Desktop/FoMR/Scanpy/data/AML_dataset_combined_raw_140723.h5ad\", compression=\"gzip\") # compress"
   ]
  },
  {
   "cell_type": "code",
   "execution_count": 58,
   "metadata": {},
   "outputs": [
    {
     "data": {
      "text/plain": [
       "'/Users/randyramdial/Desktop/FoMR/GSE116256_RAW'"
      ]
     },
     "execution_count": 58,
     "metadata": {},
     "output_type": "execute_result"
    }
   ],
   "source": [
    "os.getcwd()"
   ]
  },
  {
   "cell_type": "code",
   "execution_count": 2,
   "metadata": {},
   "outputs": [
    {
     "data": {
      "text/plain": [
       "AnnData object with n_obs × n_vars = 11994 × 27899\n",
       "    obs: 'NumberOfReads', 'AlignedToGenome', 'AlignedToTranscriptome', 'TranscriptomeUMIs', 'NumberOfGenes', 'CyclingScore', 'CyclingBinary', 'MutTranscripts', 'WtTranscripts', 'PredictionRF2', 'PredictionRefined', 'CellType', 'Score_HSC', 'Score_Prog', 'Score_GMP', 'Score_ProMono', 'Score_Mono', 'Score_cDC', 'Score_pDC', 'Score_earlyEry', 'Score_lateEry', 'Score_ProB', 'Score_B', 'Score_Plasma', 'Score_T', 'Score_CTL', 'Score_NK', 'patient_id_with_day'"
      ]
     },
     "execution_count": 2,
     "metadata": {},
     "output_type": "execute_result"
    }
   ],
   "source": [
    "# say we start on a new day, or on a new notebook. the way to start, is to reimport scanpy (and any other things you want)\n",
    "import scanpy as sc\n",
    "import pandas as pd\n",
    "\n",
    "adata = sc.read_h5ad(\"/Users/randyramdial/Desktop/FoMR/Scanpy/data/AML_dataset_combined_raw_140723.h5ad\")\n",
    "adata"
   ]
  },
  {
   "cell_type": "code",
   "execution_count": null,
   "metadata": {},
   "outputs": [],
   "source": [
    "# work through scanpy with data \n",
    "# figure out what obs columns mean\n",
    "# determine next logical step (find cell types, cleanup, clustering, rework data)"
   ]
  },
  {
   "cell_type": "code",
   "execution_count": null,
   "metadata": {},
   "outputs": [],
   "source": []
  }
 ],
 "metadata": {
  "kernelspec": {
   "display_name": "MEDI7281",
   "language": "python",
   "name": "python3"
  },
  "language_info": {
   "codemirror_mode": {
    "name": "ipython",
    "version": 3
   },
   "file_extension": ".py",
   "mimetype": "text/x-python",
   "name": "python",
   "nbconvert_exporter": "python",
   "pygments_lexer": "ipython3",
   "version": "3.11.4"
  },
  "orig_nbformat": 4
 },
 "nbformat": 4,
 "nbformat_minor": 2
}
